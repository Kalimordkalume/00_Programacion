{
 "cells": [
  {
   "attachments": {},
   "cell_type": "markdown",
   "metadata": {},
   "source": [
    "Given an integer num, return a string representing its hexadecimal representation. For negative integers, two’s complement method is used.\n",
    "\n",
    "All the letters in the answer string should be lowercase characters, and there should not be any leading zeros in the answer except for the zero itself.\n",
    "\n",
    "Note: You are not allowed to use any built-in library method to directly solve this problem."
   ]
  },
  {
   "cell_type": "code",
   "execution_count": 7,
   "metadata": {},
   "outputs": [
    {
     "name": "stdout",
     "output_type": "stream",
     "text": [
      "43.6875\n",
      "43.6875\n",
      "43.6875\n",
      "None\n"
     ]
    }
   ],
   "source": [
    "def toHex(num: int) -> str:\n",
    "    \n",
    "    # Creamos un conjunto de dígitos hexadecimales.\n",
    "    hex_digits = {'0', '1', '2', '3', '4', '5', '6', '7', '8', '9', 'a', 'b', 'c', 'd', 'e', 'f'}\n",
    "    \n",
    "    num = 699\n",
    "    \n",
    "    dividendo = num\n",
    "    \n",
    "    divisor = 16 # Siempre es el mismo\n",
    "    \n",
    "    lista_cocientes = []\n",
    "    \n",
    "    for i in range(0,3):\n",
    "        division = dividendo / divisor\n",
    "        lista_cocientes.append(division)\n",
    "    \n",
    "    \n",
    "\n",
    "\n",
    "\n",
    "def main():\n",
    "    x = 20\n",
    "    result = toHex(x)\n",
    "    print(result)\n",
    "    \n",
    "\n",
    "if __name__ == '__main__':\n",
    "    main()\n",
    "    \n",
    "\n",
    "\n"
   ]
  },
  {
   "cell_type": "code",
   "execution_count": 3,
   "metadata": {},
   "outputs": [
    {
     "name": "stdout",
     "output_type": "stream",
     "text": [
      "'0',\n",
      "'1',\n",
      "'2',\n",
      "'3',\n",
      "'4',\n",
      "'5',\n",
      "'6',\n",
      "'7',\n",
      "'8',\n",
      "'9',\n"
     ]
    }
   ],
   "source": [
    "for i in range(0,10):\n",
    "    print(f\"'{i}',\")"
   ]
  }
 ],
 "metadata": {
  "kernelspec": {
   "display_name": "django",
   "language": "python",
   "name": "python3"
  },
  "language_info": {
   "codemirror_mode": {
    "name": "ipython",
    "version": 3
   },
   "file_extension": ".py",
   "mimetype": "text/x-python",
   "name": "python",
   "nbconvert_exporter": "python",
   "pygments_lexer": "ipython3",
   "version": "3.11.3"
  },
  "orig_nbformat": 4
 },
 "nbformat": 4,
 "nbformat_minor": 2
}
