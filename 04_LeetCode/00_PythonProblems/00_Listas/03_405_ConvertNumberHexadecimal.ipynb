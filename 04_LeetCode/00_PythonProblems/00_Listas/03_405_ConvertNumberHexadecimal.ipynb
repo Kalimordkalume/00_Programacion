{
 "cells": [
  {
   "attachments": {},
   "cell_type": "markdown",
   "metadata": {},
   "source": [
    "Given an integer num, return a string representing its hexadecimal representation. For negative integers, two’s complement method is used.\n",
    "\n",
    "All the letters in the answer string should be lowercase characters, and there should not be any leading zeros in the answer except for the zero itself.\n",
    "\n",
    "Note: You are not allowed to use any built-in library method to directly solve this problem."
   ]
  },
  {
   "cell_type": "code",
   "execution_count": 26,
   "metadata": {},
   "outputs": [
    {
     "name": "stdout",
     "output_type": "stream",
     "text": [
      "([255, 15, 0], [15, 15, 15], {0: '0', 1: '1', 2: '2', 3: '3', 4: '4', 5: '5', 6: '6', 7: '7', 8: '8', 9: '9', '10': 'a', '11': 'a', '12': 'a', '13': 'a', '14': 'a', '15': 'a'})\n"
     ]
    }
   ],
   "source": [
    "def toHex() -> str:\n",
    "    \n",
    "    # Creamos un conjunto de dígitos hexadecimales.\n",
    "    HEX_DIGITS = {0 : \"0\",\n",
    "        1 : \"1\",\n",
    "        2 : \"2\",\n",
    "        3 : \"3\",\n",
    "        4 : \"4\",\n",
    "        5 : \"5\",\n",
    "        6 : \"6\",\n",
    "        7 : \"7\",\n",
    "        8 : \"8\",\n",
    "        9 : \"9\",\n",
    "        \"10\" : \"a\",\n",
    "        \"11\" : \"a\",\n",
    "        \"12\" : \"a\",\n",
    "        \"13\" : \"a\",\n",
    "        \"14\" : \"a\",\n",
    "        \"15\" : \"a\"}\n",
    "    \n",
    "    \n",
    "    num = 4095\n",
    "    \n",
    "    dividendo = num\n",
    "    \n",
    "    DIVISOR = 16 # Siempre es el mismo\n",
    "    \n",
    "    lista_cocientes = []\n",
    "    lista_restos = []\n",
    "    cociente = True\n",
    "    while cociente >= 1:\n",
    "        cociente = dividendo // DIVISOR\n",
    "        resto = dividendo % DIVISOR\n",
    "        lista_cocientes.append(cociente)\n",
    "        lista_restos.append(resto)\n",
    "        dividendo = cociente\n",
    "    return lista_cocientes, lista_restos, HEX_DIGITS\n",
    "    \n",
    "    for i in range(0,4):\n",
    "        cociente = dividendo / DIVISOR\n",
    "        resto = dividendo % DIVISOR\n",
    "        lista_cocientes.append(cociente)\n",
    "        lista_restos.append(resto)\n",
    "        dividendo = cociente\n",
    "    return lista_cocientes, lista_restos\n",
    "    \n",
    "\n",
    "\n",
    "\n",
    "def main():\n",
    "    \n",
    "    result = toHex()\n",
    "    print(result)\n",
    "\n",
    "    \n",
    "\n",
    "if __name__ == '__main__':\n",
    "    main()\n",
    "    \n",
    "\n",
    "\n"
   ]
  },
  {
   "cell_type": "code",
   "execution_count": 23,
   "metadata": {},
   "outputs": [
    {
     "name": "stdout",
     "output_type": "stream",
     "text": [
      "0 : \"0\",\n",
      "1 : \"1\",\n",
      "2 : \"2\",\n",
      "3 : \"3\",\n",
      "4 : \"4\",\n",
      "5 : \"5\",\n",
      "6 : \"6\",\n",
      "7 : \"7\",\n",
      "8 : \"8\",\n",
      "9 : \"9\",\n",
      "\"10\" : \"a\",\n",
      "\"11\" : \"a\",\n",
      "\"12\" : \"a\",\n",
      "\"13\" : \"a\",\n",
      "\"14\" : \"a\",\n",
      "\"15\" : \"a\",\n"
     ]
    }
   ],
   "source": [
    "for i in range(0,16):\n",
    "    if i == 10:\n",
    "        print(f'\"{i}\" : \"a\",')\n",
    "    elif i == 11:\n",
    "        print(f'\"{i}\" : \"b\",')\n",
    "    elif i == 12:\n",
    "        print(f'\"{i}\" : \"c\",')\n",
    "    elif i == 13:\n",
    "        print(f'\"{i}\" : \"d\",')\n",
    "    elif i == 14:\n",
    "        print(f'\"{i}\" : \"e\",')\n",
    "    elif i == 15:\n",
    "        print(f'\"{i}\" : \"f\",')\n",
    "    else:\n",
    "        print(f'{i} : \"{i}\",')\n",
    "    "
   ]
  }
 ],
 "metadata": {
  "kernelspec": {
   "display_name": "django",
   "language": "python",
   "name": "python3"
  },
  "language_info": {
   "codemirror_mode": {
    "name": "ipython",
    "version": 3
   },
   "file_extension": ".py",
   "mimetype": "text/x-python",
   "name": "python",
   "nbconvert_exporter": "python",
   "pygments_lexer": "ipython3",
   "version": "3.11.3"
  },
  "orig_nbformat": 4
 },
 "nbformat": 4,
 "nbformat_minor": 2
}
